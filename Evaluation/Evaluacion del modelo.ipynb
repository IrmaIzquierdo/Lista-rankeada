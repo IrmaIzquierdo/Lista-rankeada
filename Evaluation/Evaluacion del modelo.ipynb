{
 "cells": [
  {
   "cell_type": "markdown",
   "metadata": {},
   "source": [
    "Notebook generado para la evaluacion del modelo \n",
    "Nombre:Ejecucion del modelo con Bertopic\n",
    "Autor: Irma Izquierdo.\""
   ]
  },
  {
   "cell_type": "markdown",
   "metadata": {},
   "source": [
    "Importamos las librerias necesarias para la generacion de la lista\n",
    "clasificada de docentes."
   ]
  },
  {
   "cell_type": "code",
   "execution_count": 1,
   "metadata": {},
   "outputs": [
    {
     "name": "stderr",
     "output_type": "stream",
     "text": [
      "c:\\Users\\USUARIO\\AppData\\Local\\Programs\\Python\\Python39\\lib\\site-packages\\tqdm\\auto.py:21: TqdmWarning: IProgress not found. Please update jupyter and ipywidgets. See https://ipywidgets.readthedocs.io/en/stable/user_install.html\n",
      "  from .autonotebook import tqdm as notebook_tqdm\n"
     ]
    }
   ],
   "source": [
    "from bertopic import BERTopic\n",
    "from bertopic.vectorizers import ClassTfidfTransformer\n",
    "import json\n",
    "import pandas as pd"
   ]
  },
  {
   "cell_type": "markdown",
   "metadata": {},
   "source": [
    "En la siguiente linea cargamos el modelo generado"
   ]
  },
  {
   "cell_type": "code",
   "execution_count": 2,
   "metadata": {},
   "outputs": [],
   "source": [
    "model_bt_fnl=BERTopic.load(\"model_final\")"
   ]
  },
  {
   "cell_type": "markdown",
   "metadata": {},
   "source": [
    "Realizamos la busqueda del topico"
   ]
  },
  {
   "cell_type": "code",
   "execution_count": 3,
   "metadata": {},
   "outputs": [
    {
     "data": {
      "text/plain": [
       "([19, 189, 88, 259, 257],\n",
       " [0.71509635, 0.6918075, 0.67702705, 0.62389904, 0.6082424])"
      ]
     },
     "execution_count": 3,
     "metadata": {},
     "output_type": "execute_result"
    }
   ],
   "source": [
    "lista1=model_bt_fnl.find_topics(\"bomba calor\")\n",
    "lista1"
   ]
  },
  {
   "cell_type": "markdown",
   "metadata": {},
   "source": [
    "Establecemos la conecxion con la base de datos y la declarion de consultas para \n",
    "la busqueda."
   ]
  },
  {
   "cell_type": "code",
   "execution_count": 4,
   "metadata": {},
   "outputs": [],
   "source": [
    "import mysql\n",
    "import mysql.connector as mysql\n",
    "conexion = mysql.connect(\n",
    "    host = \"localhost\",\n",
    "    user = #usuario BD,\n",
    "    password = #clave BD\",\n",
    "    database=#nombre BD\"\n",
    ")\n",
    "mycursor = conexion.cursor()\n",
    "mycursorT1 = conexion.cursor()\n",
    "mycursorT2 = conexion.cursor()\n",
    "mycursorT3 = conexion.cursor()\n",
    "mycursorT4 = conexion.cursor()\n",
    "mycursorT5 = conexion.cursor()\n",
    "mycursoR1=conexion.cursor()\n",
    "mycursorTr=conexion.cursor()\n",
    "sqlSelectT1 = \"select temaDirector,temaP1,temaUno from tema where temaUno in (%s,%s,%s,%s,%s)\"\n",
    "sqlSelectT2 = \"select temaDirector,temaP2,temaDos from tema where temaDos in (%s,%s,%s,%s,%s)\"\n",
    "sqlSelectT3 = \"select temaDirector,temaP3,temaTres from tema where temaTres in (%s,%s,%s,%s,%s)\"\n",
    "sqlSelectT4 = \"select temaDirector,temaP4,temaCuatro from tema where temaCuatro in (%s,%s,%s,%s,%s)\"\n",
    "sqlSelectT5 = \"select temaDirector,temaP5,temaCinco from tema where temaCinco in (%s,%s,%s,%s,%s)\"\n",
    "sqlInsert = \"INSERT INTO lista_rank (lista_rankDirector,lista_rankTema ,lista_rankProbabilidad,lista_ranktemapb,lista_rankcol ) VALUES (%s, %s, %s,%s,%s)\"\n",
    "sqlResult=\"select lista_rankDirector,sum((lista_rankProbabilidad*lista_rankcol)) def from lista_rank group by lista_rankDirector order by def desc\"\n",
    "sqltruncate=\"truncate table lista_rank\"\n",
    "mycursorTr.execute(sqltruncate)"
   ]
  },
  {
   "cell_type": "markdown",
   "metadata": {},
   "source": [
    "Ejecutamos las consultas, insertamos en nuestra tabla los resultados y le damos\n",
    "formato a la salida de la lista clasificada."
   ]
  },
  {
   "cell_type": "code",
   "execution_count": null,
   "metadata": {},
   "outputs": [
    {
     "name": "stdout",
     "output_type": "stream",
     "text": [
      "('MARCO GILBERTO BONILLA PALACIOS', 0.9581327555998407)\n",
      "('VICENTE SALOMON TOAPANTA MUNOZ', 0.9232522008391462)\n",
      "('MARIA GRACIA CALISTO RAMIREZ', 0.8332014792639382)\n",
      "('MARIO RIVERA', 0.8267563513373386)\n",
      "('FREDDY ORDONEZ MALLA', 0.8199626346332991)\n",
      "('NARANJO MENDOZA CARLOS ANDRES', 0.8078513532345258)\n",
      "('CARMEN ALICIA CARABALI CARABALI', 0.7755417550200551)\n",
      "('JOSE LUIS PALACIOS LOPEZ', 0.734487291252995)\n",
      "('MARCELO POZO', 0.5763281926801951)\n",
      "('MARIBEL LUNA', 0.543860009459235)\n",
      "('IGNACIO BLADIMIR CERON GUERRA', 0.47074256783194374)\n",
      "('LUIS ENRIQUE BARAJAS SANCHEZ', 0.320668396526034)\n",
      "('ROBERTO WILSON BAHAMONDE TIPAN', 0.31120233004579956)\n",
      "('RICARDO FABRICIO PREIS VARGAS', 0.306331873164621)\n",
      "('JULIA MARIA MORENO AVILES', 0.30540294920952)\n",
      "('JONATHAN GABRIEL LOOR BAUTISTA', 0.29864348615374203)\n",
      "('CARLOS WIME DIAZ CAMPOVERDE', 0.27296601827132316)\n",
      "('ANGEL FERNANDO USHINA PUMA', 0.2595409649675936)\n",
      "('SILVIA AZUCENA VALENCIA CHAMORRO', 0.25880682920621595)\n",
      "('MANUEL FREIRE', 0.25721590537118716)\n",
      "('BLADIMIR CERON GUERRA', 0.2554849789799615)\n",
      "('LEANDRO OCTAVIO SCACCO FRANCO', 0.25524337992733276)\n",
      "('FAUSTO OVIEDO', 0.24785690817397438)\n",
      "('MARCELO SALVADOR LOZADA LOPEZ', 0.2476604860392112)\n",
      "('WILSON RENAN CORNEJO ORQUERA', 0.24722066841096316)\n",
      "('DIEGO RENATO CARDENAS CARDENAS', 0.2439590115757088)\n",
      "('RAUL DARIO BALDEON LOPEZ', 0.24122265901516318)\n",
      "('LESTER JOEL PEREZ LOZADA', 0.23808112146208)\n",
      "('LUIS RIGOBERTO MAISINCHO GUAGRILLA', 0.235480273534032)\n",
      "('JULIO LOZADA LOPEZ', 0.23280397749507678)\n",
      "('IVAN ZAMBRANO OREJUELA', 0.232662194416592)\n",
      "('MIGUEL ANGEL OROZCO ESPINOZA', 0.22814590358950398)\n",
      "('JANETH GAIBOR VILLOTA', 0.22692580662687997)\n",
      "('DIEGO FERNANDO NARVAEZ RIVADENEIRA', 0.22528461524619836)\n",
      "('VINICIO RENE MELO GORDILLO', 0.22452903607481597)\n",
      "('JUAN MARCELO IBUJES VILLACIS', 0.2207657893673632)\n",
      "('MARCELO HIDALGO B', 0.2207657893673632)\n",
      "('PATRICIA MOTHES', 0.2194204072385168)\n",
      "('TRAJANO RAMIREZ', 0.21733604432577902)\n",
      "('PATRICIO HONORATO PLACENCIA ANDRADE', 0.21147212687761918)\n",
      "('MIGUEL DARIO ORTEGA LOPEZ', 0.21083127650070238)\n",
      "('RAMON HUMBERTO VERA LEON', 0.19945892590645758)\n",
      "('RUBEN GUILLERMO ORTEGA VERINAZ', 0.1969352917236)\n",
      "('MARIO CALIXTO RUIZ ROMERO', 0.19473887387025118)\n",
      "('KARINA ISABEL ESTRELLA CANTOS', 0.1947318862010032)\n",
      "('NELSON ALEJANDRO ARAUJO GRIJALVA', 0.18454199274029917)\n"
     ]
    }
   ],
   "source": [
    "\n",
    "listaTotal=[]\n",
    "listarankeada=[]\n",
    "value4=''\n",
    "d=''\n",
    "listaTemas=str(lista1[0]).split(\",\")\n",
    "listaPb=str(lista1[1]).split(\",\")\n",
    "p1=listaTemas[0].replace(\"[\",\"\").replace(\" \",\"\")\n",
    "p2=listaTemas[1].replace(\" \",\"\")\n",
    "p3=listaTemas[2].replace(\" \",\"\")\n",
    "p4=listaTemas[3].replace(\" \",\"\")\n",
    "p5=listaTemas[4].replace(\"]\",\"\").replace(\" \",\"\")\n",
    "p=(p1,p2,p3,p4,p5,) \n",
    "mycursorT1.execute(sqlSelectT1, p)\n",
    "listaTotal.append(mycursorT1.fetchall())\n",
    "mycursorT2.execute(sqlSelectT2, p)\n",
    "listaTotal.append(mycursorT2.fetchall())\n",
    "mycursorT3.execute(sqlSelectT3, p)\n",
    "listaTotal.append(mycursorT3.fetchall())\n",
    "mycursorT4.execute(sqlSelectT4, p)\n",
    "listaTotal.append(mycursorT4.fetchall())\n",
    "mycursorT5.execute(sqlSelectT5, p)\n",
    "listaTotal.append(mycursorT5.fetchall())\n",
    "for j in listaTotal:\n",
    "        for i in j:\n",
    "           listaAux=(str(i).replace(\"[(\",\"\").replace(\")]\",\"\").split(\",\"))\n",
    "           value1=listaAux[0].replace(\"(\",\"\").replace(\"'\",\"\")\n",
    "           value2=listaAux[1]\n",
    "           value3=listaAux[2] \n",
    "           m= ((value3.replace(\")\",\"\")).replace(\"(\",\"\")).replace(\" \",\"\")\n",
    "           for h in range(0,len(listaTemas)):\n",
    "               V=(str(listaTemas[h]).replace(\"[\",\"\").replace(\"]\",\"\")).replace(\" \",\"\")\n",
    "               if m==V:\n",
    "                 value4=listaPb[h]\n",
    "                 value5=value4.replace(\"]\",\"\").replace(\"[\",\"\")\n",
    "                 break\n",
    "           insert=value1,m,value2,m,value5\n",
    "           mycursor.execute(sqlInsert, insert)\n",
    "           conexion.commit()\n",
    "listaResulRank=mycursoR1.execute(sqlResult)\n",
    "for  b in mycursoR1 :\n",
    "      print(b)\n",
    "               "
   ]
  },
  {
   "cell_type": "code",
   "execution_count": null,
   "metadata": {},
   "outputs": [],
   "source": []
  }
 ],
 "metadata": {
  "kernelspec": {
   "display_name": "Python 3",
   "language": "python",
   "name": "python3"
  },
  "language_info": {
   "codemirror_mode": {
    "name": "ipython",
    "version": 3
   },
   "file_extension": ".py",
   "mimetype": "text/x-python",
   "name": "python",
   "nbconvert_exporter": "python",
   "pygments_lexer": "ipython3",
   "version": "3.9.1"
  }
 },
 "nbformat": 4,
 "nbformat_minor": 2
}
